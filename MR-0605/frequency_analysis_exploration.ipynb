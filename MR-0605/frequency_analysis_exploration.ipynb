{
 "cells": [
  {
   "cell_type": "code",
   "execution_count": 1,
   "metadata": {},
   "outputs": [],
   "source": [
    "import h5py\n",
    "import numpy as np\n",
    "import matplotlib.pyplot as plt\n",
    "import pandas as pd\n",
    "from scipy.ndimage import gaussian_filter\n",
    "import seaborn as sns\n",
    "import pickle\n",
    "from tqdm import tqdm\n",
    "\n",
    "import matplotlib.colors as colors\n",
    "import matplotlib.cm as cmx\n",
    "\n",
    "from numpy.fft import fft, rfft\n",
    "from scipy.signal import spectrogram"
   ]
  },
  {
   "cell_type": "code",
   "execution_count": 44,
   "metadata": {},
   "outputs": [],
   "source": [
    "def power_spectrum(signal,time, show = True):\n",
    "    \n",
    "    T = time[-1]\n",
    "    N = len(time)\n",
    "    dt = time[1]-time[0]\n",
    "\n",
    "    signal = (signal - signal.mean())/signal.std()\n",
    "    \n",
    "    xf = fft(signal)               # Compute Fourier transform of x\n",
    "    Sxx = 2 * dt ** 2 / T * (xf * xf.conj())[:-1]       # Compute spectrum\n",
    "    Sxx = Sxx[:int(len(signal) / 2)]               # Ignore negative frequencies\n",
    "\n",
    "    df = 1 / T                     # Determine frequency resolution\n",
    "    fNQ = 1 / dt / 2                      # Determine Nyquist frequency\n",
    "    faxis = np.arange(0,fNQ,df)         # Construct frequency axis\n",
    "\n",
    "\n",
    "    # if show is True:\n",
    "    #     plt.plot(faxis,Sxx.real, label = 'power spectrum')\n",
    "    #     for i in fs:\n",
    "    #         plt.axvline(i)\n",
    "        \n",
    "    #     plt.xlabel('Frequency [Hz]')              # Label the axes\n",
    "    #     plt.ylabel('Power [$\\mu V^2$/Hz]')\n",
    "    #     plt.legend()\n",
    "\n",
    "    return faxis, Sxx, xf\n",
    "\n"
   ]
  },
  {
   "cell_type": "markdown",
   "metadata": {},
   "source": [
    "# test example"
   ]
  },
  {
   "cell_type": "markdown",
   "metadata": {},
   "source": []
  },
  {
   "cell_type": "code",
   "execution_count": 60,
   "metadata": {},
   "outputs": [
    {
     "name": "stdout",
     "output_type": "stream",
     "text": [
      "T = 2.0\n",
      "dt = 0.02\n",
      "N = 100\n"
     ]
    },
    {
     "data": {
      "text/plain": [
       "[<matplotlib.lines.Line2D at 0x7f7c1d260f40>]"
      ]
     },
     "execution_count": 60,
     "metadata": {},
     "output_type": "execute_result"
    },
    {
     "data": {
      "image/png": "[encoded data removed]",
      "text/plain": [
       "<Figure size 432x288 with 1 Axes>"
      ]
     },
     "metadata": {
      "needs_background": "light"
     },
     "output_type": "display_data"
    }
   ],
   "source": [
    "T = 2.0\n",
    "dt = 0.02\n",
    "time = np.arange(0,T,dt)\n",
    "N = len(time)\n",
    "nb_pad = 10\n",
    "f = 2\n",
    "fs = [4]\n",
    "\n",
    "print(f'T = {T}')\n",
    "print(f'dt = {dt}')\n",
    "print(f'N = {N}')\n",
    "\n",
    "signal = np.sin(2*np.pi*f*time)\n",
    "\n",
    "signal = np.zeros(N)\n",
    "\n",
    "for i in fs:\n",
    "    signal += np.sin(2*np.pi*i*time)\n",
    "    signal += np.random.randn(N)*0.5\n",
    "\n",
    "\n",
    "signal_long = np.concatenate((signal,np.zeros(nb_pad*N)))\n",
    "time_long = np.arange(0,T+nb_pad*T,dt)\n",
    "plt.plot(time,signal)\n",
    "plt.plot(time_long,signal_long)"
   ]
  },
  {
   "cell_type": "code",
   "execution_count": 61,
   "metadata": {},
   "outputs": [],
   "source": [
    "faxis,SXX,xf = power_spectrum(signal,time)\n",
    "faxis_long,SXX_long,xf_long = power_spectrum(signal_long,time_long)"
   ]
  },
  {
   "cell_type": "code",
   "execution_count": 62,
   "metadata": {},
   "outputs": [
    {
     "name": "stderr",
     "output_type": "stream",
     "text": [
      "/user/sebert/home/miniconda3/envs/lyon/lib/python3.8/site-packages/numpy/core/_asarray.py:102: ComplexWarning: Casting complex values to real discards the imaginary part\n",
      "  return array(a, dtype, copy=False, order=order)\n",
      "/user/sebert/home/miniconda3/envs/lyon/lib/python3.8/site-packages/numpy/core/_asarray.py:102: ComplexWarning: Casting complex values to real discards the imaginary part\n",
      "  return array(a, dtype, copy=False, order=order)\n"
     ]
    },
    {
     "data": {
      "text/plain": [
       "(3.4, 4.5)"
      ]
     },
     "execution_count": 62,
     "metadata": {},
     "output_type": "execute_result"
    },
    {
     "data": {
      "image/png": "[encoded data removed]",
      "text/plain": [
       "<Figure size 432x288 with 1 Axes>"
      ]
     },
     "metadata": {
      "needs_background": "light"
     },
     "output_type": "display_data"
    }
   ],
   "source": [
    "plt.plot(faxis,SXX)\n",
    "plt.plot(faxis_long,SXX_long)\n",
    "for f in fs:\n",
    "    plt.axvline(f)\n",
    "plt.xlim(3.4,4.5\n",
    "         )"
   ]
  },
  {
   "cell_type": "code",
   "execution_count": 48,
   "metadata": {},
   "outputs": [
    {
     "data": {
      "text/plain": [
       "100"
      ]
     },
     "execution_count": 48,
     "metadata": {},
     "output_type": "execute_result"
    }
   ],
   "source": [
    "len(time)"
   ]
  },
  {
   "cell_type": "markdown",
   "metadata": {},
   "source": [
    "# power spectrum for each stimulus"
   ]
  },
  {
   "cell_type": "code",
   "execution_count": 5,
   "metadata": {},
   "outputs": [
    {
     "data": {
      "text/plain": [
       "[<matplotlib.lines.Line2D at 0x7f50756e4760>]"
      ]
     },
     "execution_count": 5,
     "metadata": {},
     "output_type": "execute_result"
    },
    {
     "data": {
      "image/png": "[encoded data removed]",
      "text/plain": [
       "<Figure size 432x288 with 1 Axes>"
      ]
     },
     "metadata": {
      "needs_background": "light"
     },
     "output_type": "display_data"
    }
   ],
   "source": [
    "plt.plot(signal)"
   ]
  },
  {
   "cell_type": "code",
   "execution_count": 6,
   "metadata": {},
   "outputs": [],
   "source": [
    "# load data\n",
    "fpdata = '/user/sebert/home/Documents/Experiments/Spatiotemporal_tuning_curves/Simone/MR-0605/results/data.pkl'\n",
    "with open(fpdata, \"rb\") as handle:   #Pickling\n",
    "    data = pickle.load(handle)"
   ]
  },
  {
   "cell_type": "code",
   "execution_count": null,
   "metadata": {},
   "outputs": [],
   "source": [
    "key = 'temp_3'\n",
    "nb_stimuli = 25\n",
    "intensity = 'nd3'\n",
    "grating = 'flickering'"
   ]
  },
  {
   "cell_type": "code",
   "execution_count": null,
   "metadata": {},
   "outputs": [],
   "source": [
    "# choose a cell\n",
    "\n",
    "\n",
    "fxs = [1,2,4,6,10]\n",
    "fts = [2,4,5,6,8]\n",
    "\n",
    "T = 1.2\n",
    "T_full = 2.0\n",
    "dt = 0.02\n",
    "time = np.arange(0,T,dt)\n",
    "time_full = np.arange(0,T_full,dt)\n",
    "N = len(time)\n",
    "\n"
   ]
  },
  {
   "cell_type": "code",
   "execution_count": null,
   "metadata": {},
   "outputs": [],
   "source": [
    "\n",
    "spectrums = []\n",
    "spectrums_full = []\n",
    "\n",
    "resps = []\n",
    "resps_full = []\n",
    "\n",
    "for nbs in range(nb_stimuli):\n",
    "\n",
    "    signal = data[key][intensity][grating]['counts_sorted_stim_alinged'][nbs][:60]\n",
    "    signal_full = data[key][intensity][grating]['counts_sorted_stim_alinged'][nbs][:-1]\n",
    "    faxis,Sxx = power_spectrum(signal,time,show = False)\n",
    "    faxis_full,Sxx_full = power_spectrum(signal_full,time_full,show = False)\n",
    "    spectrums.append(Sxx.real)\n",
    "    spectrums_full.append(Sxx_full.real)\n",
    "    resps.append(signal)\n",
    "    resps_full.append(signal_full)"
   ]
  },
  {
   "cell_type": "code",
   "execution_count": null,
   "metadata": {},
   "outputs": [],
   "source": [
    "fig,ax = plt.subplots(5,5, sharey = True,figsize = (20,16))\n",
    "\n",
    "for nbs in range(nb_stimuli):\n",
    "\n",
    "        y = int(np.floor(nbs/5))\n",
    "        x = int(nbs%5)\n",
    "\n",
    "        fx = float(fxs[y])\n",
    "        ft = float(fts[x])\n",
    "\n",
    "        ax[x,y].plot(time_full,resps_full[nbs])\n",
    "        ax[x,y].plot(time,resps[nbs])\n",
    "        ax[-1,y].set_xlabel('time [s]')\n",
    "        ax[x,0].set_ylabel(f'ft \\n {ft} Hz')\n",
    "        ax[0,y].set_title(f'fx \\n {fx} Hz')"
   ]
  },
  {
   "cell_type": "code",
   "execution_count": null,
   "metadata": {},
   "outputs": [],
   "source": [
    "fig,ax = plt.subplots(5,5, sharex = True, sharey = True, figsize = (20,16))\n",
    "\n",
    "X = 0\n",
    "for nbs in range(nb_stimuli):\n",
    "\n",
    "        y = int(np.floor(nbs/5))\n",
    "        x = int(nbs%5)\n",
    "\n",
    "        fx = float(fxs[y])\n",
    "        ft = float(fts[x])\n",
    "\n",
    "        if X ==0:\n",
    "                ax[x,y].plot(faxis_full,spectrums_full[nbs], label = 'full')\n",
    "                ax[x,y].plot(faxis,spectrums[nbs], label = 'half')\n",
    "                \n",
    "        else:\n",
    "                ax[x,y].plot(faxis_full,spectrums_full[nbs])\n",
    "                ax[x,y].plot(faxis,spectrums[nbs])\n",
    "\n",
    "        ax[x,y].axvline(ft, color = 'r', label = f'ft = {ft} Hz')\n",
    "        ax[x,y].legend()\n",
    "        ax[x,y].set_xlim(1,10)\n",
    "        print(faxis[spectrums[nbs].argmax()])\n",
    "        ax[-1,y].set_xlabel('frequency [Hz]')\n",
    "        ax[x,0].set_ylabel(f'ft \\n {ft} Hz')\n",
    "        ax[0,y].set_title(f'fx \\n {fx} Hz')\n"
   ]
  },
  {
   "cell_type": "code",
   "execution_count": null,
   "metadata": {},
   "outputs": [],
   "source": [
    "# get amplitude of stimulus frequency in the output \n",
    "F1s = []\n",
    "zF1s = []\n",
    "meansFFT = []\n",
    "stdsFFT = []\n",
    "\n",
    "for fti in fts:\n",
    "    amp_ft = Sxx.real[faxis == fti]\n",
    "    mean = np.mean(Sxx.real)\n",
    "    std = np.std(Sxx.real)\n",
    "    zamp_ft = (amp_ft - mean)/std\n",
    "    F1s.append(amp_ft)\n",
    "    zF1s.append(zamp_ft)\n",
    "    meansFFT.append(mean)\n",
    "    stdsFFT.append(std)"
   ]
  },
  {
   "cell_type": "code",
   "execution_count": null,
   "metadata": {},
   "outputs": [],
   "source": []
  }
 ],
 "metadata": {
  "kernelspec": {
   "display_name": "base",
   "language": "python",
   "name": "python3"
  },
  "language_info": {
   "codemirror_mode": {
    "name": "ipython",
    "version": 3
   },
   "file_extension": ".py",
   "mimetype": "text/x-python",
   "name": "python",
   "nbconvert_exporter": "python",
   "pygments_lexer": "ipython3",
   "version": "3.8.12"
  },
  "orig_nbformat": 4
 },
 "nbformat": 4,
 "nbformat_minor": 2
}
